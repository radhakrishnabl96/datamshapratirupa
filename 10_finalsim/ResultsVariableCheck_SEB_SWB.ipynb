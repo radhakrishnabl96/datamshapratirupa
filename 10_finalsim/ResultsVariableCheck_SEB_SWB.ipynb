{
 "cells": [
  {
   "cell_type": "markdown",
   "id": "5c86ffcd-4982-4113-945d-aecefc341e66",
   "metadata": {},
   "source": [
    "- The main goal is to check for SEB and SWB surface variables within the *.h5 files and then later on add them in the xml file to have a time series of the required variable.\n",
    "\n",
    "\n",
    "Note:\n",
    "- All of the input files was generated from the jupyter notebooks: {Case_name}_pestpp_fileprep\n",
    "- The outputs was analyzed from the jupyter notebooks: Output_analysis_{Case_name}. The corresponding files were extracted from these jupyter notebook to be analyzed here.\n",
    "\n",
    "The following files will be analyzed in this notebook:\n",
    "\n",
    "2. Surface energy balance (SEB) with active layer depth \n",
    "3. Surface water balance (SWB) with active layer depth\n",
    "4. SEB and SWB with active layer depth \n",
    "\n",
    "\n",
    "A comparison for the three cases will be made here!"
   ]
  },
  {
   "cell_type": "code",
   "execution_count": 6,
   "id": "fae47ab6-2368-457b-95c9-fb3ead320d15",
   "metadata": {},
   "outputs": [],
   "source": [
    "#import sys\n",
    "#sys.path.insert(0,'../pestools')"
   ]
  },
  {
   "cell_type": "code",
   "execution_count": 7,
   "id": "e7203ba1-74dd-4ca8-ab2f-1e0f35d4a24a",
   "metadata": {},
   "outputs": [
    {
     "name": "stdout",
     "output_type": "stream",
     "text": [
      "/home/rk/datamshapratirupa/10_finalsim\n"
     ]
    }
   ],
   "source": [
    "import os\n",
    "main_cwd = os.getcwd()\n",
    "print(main_cwd)"
   ]
  },
  {
   "cell_type": "code",
   "execution_count": 8,
   "id": "463777df",
   "metadata": {},
   "outputs": [],
   "source": [
    "import warnings\n",
    "warnings.filterwarnings('ignore')"
   ]
  },
  {
   "cell_type": "code",
   "execution_count": 9,
   "id": "20f363de-9c9f-42b5-b574-f4f42bafcc16",
   "metadata": {},
   "outputs": [],
   "source": [
    "from matplotlib.ticker import MaxNLocator\n",
    "#import parsen"
   ]
  },
  {
   "cell_type": "code",
   "execution_count": 12,
   "id": "124e9524-9e45-471f-879f-c191bce698aa",
   "metadata": {},
   "outputs": [],
   "source": [
    "import matplotlib.pyplot as plt\n",
    "import pandas as pd\n",
    "import numpy as np\n",
    "import matplotlib.gridspec as gridspec\n",
    "import h5py"
   ]
  },
  {
   "cell_type": "markdown",
   "id": "909a736c",
   "metadata": {},
   "source": [
    "### Reading the subsurface data *.h5 file - ats_vis_data.h5"
   ]
  },
  {
   "cell_type": "code",
   "execution_count": 17,
   "id": "284732b8",
   "metadata": {},
   "outputs": [
    {
     "name": "stdout",
     "output_type": "stream",
     "text": [
      "List of datasets in this file: \n",
      " \n",
      " ['base_porosity.cell.0', 'capillary_pressure_gas_liq.cell.0', 'capillary_pressure_liq_ice.cell.0', 'cell_volume.cell.0', 'darcy_velocity.cell.0', 'darcy_velocity.cell.1', 'darcy_velocity.cell.2', 'density_rock.cell.0', 'dwater_content|dtemperature.cell.0', 'energy.cell.0', 'enthalpy.cell.0', 'internal_energy_ice.cell.0', 'internal_energy_liquid.cell.0', 'internal_energy_rock.cell.0', 'mass_density_liquid.cell.0', 'molar_density_ice.cell.0', 'molar_density_liquid.cell.0', 'permeability.cell.0', 'porosity.cell.0', 'pressure.cell.0', 'relative_permeability.cell.0', 'saturation_gas.cell.0', 'saturation_ice.cell.0', 'saturation_liquid.cell.0', 'temperature.cell.0', 'thermal_conductivity.cell.0', 'total_energy_source.cell.0', 'viscosity_liquid.cell.0', 'water_content.cell.0', 'water_source.cell.0']\n",
      "\n",
      "\n"
     ]
    }
   ],
   "source": [
    "### Reading the file once more to check\n",
    "### Extracting the data from the example 'column_data.h5'.  \n",
    "with h5py.File(f'Case2_finalsim.demo/ats_vis_data.h5','r') as hdf:\n",
    "    ls = list(hdf.keys())\n",
    "    print('List of datasets in this file: \\n \\n', ls)\n",
    "    print('\\n')\n",
    "    #print(np.array(hdf.get('air temperature [K]')))\n",
    "    #print(len(np.array(hdf.get('air temperature [K]'))))\n",
    "    #air_temp = np.array(hdf.get('air temperature [K]'))"
   ]
  },
  {
   "cell_type": "markdown",
   "id": "56fc8ed7",
   "metadata": {},
   "source": [
    "* Comments: \n",
    "\n",
    "- Interesting variables - total_energy_source: * “surface water source” DOMAIN-water_source [m s^-1] * “surface energy source” DOMAIN-total_energy_source [MW m^-2] * “subsurface water source” DOMAIN-water_source [mol s^-1] * “subsurface energy source” DOMAIN-total_energy_source [MW m^-3] * “snow mass source - sink” DOMAIN-source_sink [m_SWE s^-1] * “new snow source” DOMAIN-source [m_SWE s^-1] [ATS 1.0 docs]\n",
    "\n",
    "- Key for total_energy_source: “subsurface energy source” DOMAIN-total_energy_source [MW m^-3]"
   ]
  },
  {
   "cell_type": "markdown",
   "id": "db827a42",
   "metadata": {},
   "source": [
    "### Reading the surface data *.h5 file - ats_vis_surface_data.h5"
   ]
  },
  {
   "cell_type": "code",
   "execution_count": 14,
   "id": "8a8fd459",
   "metadata": {},
   "outputs": [
    {
     "name": "stdout",
     "output_type": "stream",
     "text": [
      "List of datasets in this file: \n",
      " \n",
      " ['surface-air_temperature.cell.0', 'surface-albedo.cell.0', 'surface-albedos.cell.0', 'surface-albedos.cell.1', 'surface-albedos.cell.2', 'surface-area_fractions.cell.0', 'surface-area_fractions.cell.1', 'surface-area_fractions.cell.2', 'surface-aspect.cell.0', 'surface-cell_volume.cell.0', 'surface-elevation.cell.0', 'surface-emissivities.cell.0', 'surface-emissivities.cell.1', 'surface-emissivities.cell.2', 'surface-energy.cell.0', 'surface-enthalpy.cell.0', 'surface-evaporative_flux.cell.0', 'surface-incoming_longwave_radiation.cell.0', 'surface-incoming_shortwave_radiation.cell.0', 'surface-internal_energy_ice.cell.0', 'surface-internal_energy_liquid.cell.0', 'surface-manning_coefficient.cell.0', 'surface-mass_density_liquid.cell.0', 'surface-molar_density_liquid.cell.0', 'surface-overland_conductivity.cell.0', 'surface-ponded_depth.cell.0', 'surface-ponded_depth_bar.cell.0', 'surface-precipitation_rain.cell.0', 'surface-pres_elev.cell.0', 'surface-pressure.cell.0', 'surface-qE_conducted.cell.0', 'surface-qE_latent_heat.cell.0', 'surface-qE_lw_out.cell.0', 'surface-qE_sensible_heat.cell.0', 'surface-qE_snowmelt.cell.0', 'surface-relative_humidity.cell.0', 'surface-relative_permeability.cell.0', 'surface-slope_magnitude.cell.0', 'surface-source_molar_density.cell.0', 'surface-surface_subsurface_energy_flux.cell.0', 'surface-surface_subsurface_flux.cell.0', 'surface-temperature.cell.0', 'surface-thaw_depth.cell.0', 'surface-thermal_conductivity.cell.0', 'surface-total_energy_source.cell.0', 'surface-unfrozen_effective_depth.cell.0', 'surface-unfrozen_fraction.cell.0', 'surface-velocity.cell.0', 'surface-velocity.cell.1', 'surface-velocity.cell.2', 'surface-water_content.cell.0', 'surface-water_content_bar.cell.0', 'surface-water_source.cell.0', 'surface-water_table_depth.cell.0', 'surface-wind_speed.cell.0']\n",
      "\n",
      "\n"
     ]
    }
   ],
   "source": [
    "### Reading the file once more to check\n",
    "### Extracting the data from the example 'column_data.h5'.  \n",
    "with h5py.File(f'Case2_finalsim.demo/ats_vis_surface_data.h5','r') as hdf:\n",
    "    ls = list(hdf.keys())\n",
    "    print('List of datasets in this file: \\n \\n', ls)\n",
    "    print('\\n')\n",
    "    #print(np.array(hdf.get('air temperature [K]')))\n",
    "    #print(len(np.array(hdf.get('air temperature [K]'))))\n",
    "    #air_temp = np.array(hdf.get('air temperature [K]'))"
   ]
  },
  {
   "cell_type": "markdown",
   "id": "754985ea",
   "metadata": {},
   "source": [
    "**Comments:** \n",
    "\n",
    "- Interesting variables - surface-energy, surface-evaporative_flux, surface-incoming_longwave_radiation, surface-incoming_shortwave_radiation, surface-ponded_depth, surface-precipitation_rain, surface-qE_conducted, surface-qE_latent_heat, surface-qE_lw_out, surface-qE_sensible_heat, surface-qE_snowmelt, surface-surface_subsurface_energy_flux, surface-surface_subsurface_flux, surface-total_energy_source, surface-unfrozen_effective_depth, surface-water_source, surface-water_table_depth \n",
    "\n",
    "The following variable definitions were determined from ATS 1.0 docs:\n",
    "\n",
    "- Key for surface-energy: “surface energy source” DOMAIN-total_energy_source [MW m^-2]\n",
    "- Key for surface-evaporative_flux: “evaporation” [m s^-1]\n",
    "- Key for surface-incoming_longwave_radiation: \"incoming longwave radiation\" DOMAIN-qE_lw_in [W m^-2]\n",
    "- Key for surface-incoming_shortwave_radiation: \"incoming shortwave radiation\" DOMAIN-qE_lw_in [W m^-2]\n",
    "- Key for surface-outgoing_longwave_radiation (surface-qE_lw_out): \"incoming longwave radiation\" DOMAIN-qE_lw_in [W m^-2]\n",
    "- Key for surface-incoming_shortwave_radiation (surface-qE_sw_out): \"incoming shortwave radiation\" DOMAIN-qE_lw_in [W m^-2]\n",
    "- Key for surface-ponded_depth: “ponded depth” [m]\n",
    "- Key for surface-precipitation_rain: “precipitation rain” [m s^-1]\n",
    "- Key for surface-qE_conducted: “conducted energy flux” DOMAIN-qE_conducted [W m^-2] \n",
    "- Key for surface-qE_latent_heat: “latent heat of evaporation” DOMAIN-qE_latent_heat [W m^-2]\n",
    "- Key for surface-qE_sensible_heat: “sensible heat flux” DOMAIN-qE_sensible_heat [W m^-2]\n",
    "- Key for surface-qE_snowmelt: “snowmelt” [m_SWE s^-1]\n",
    "- Key for surface-surface_subsurface_energy_flux: “surface-subsurface energy flux key” [W m^-2?] \n",
    "- Key for surface-surface_subsurface_flux: “surface-subsurface flux key” [W m^-2?]\n",
    "- Key for surface-total_energy_source: “surface energy source” DOMAIN-total_energy_source [MW m^-2]\n",
    "- Key for surface-unfrozen_effective_depth: \"unfrozen effective depth\" [m] ? \n",
    "- Key for surface-water_source: “surface water source” DOMAIN-water_source [m s^-1] \n",
    "- Key for surface-water_table_depth:\"water table depth\" [m]"
   ]
  },
  {
   "cell_type": "markdown",
   "id": "0aade607",
   "metadata": {},
   "source": [
    "### Reading the snow data *.h5 file - ats_vis_snow_data.h5"
   ]
  },
  {
   "cell_type": "code",
   "execution_count": 16,
   "id": "9847c932",
   "metadata": {},
   "outputs": [
    {
     "name": "stdout",
     "output_type": "stream",
     "text": [
      "List of datasets in this file: \n",
      " \n",
      " ['snow-age.cell.0', 'snow-cell_volume.cell.0', 'snow-death_rate.cell.0', 'snow-density.cell.0', 'snow-depth.cell.0', 'snow-melt.cell.0', 'snow-precipitation.cell.0', 'snow-source.cell.0', 'snow-source_sink.cell.0', 'snow-temperature.cell.0', 'snow-water_equivalent.cell.0']\n",
      "\n",
      "\n"
     ]
    }
   ],
   "source": [
    "### Reading the file once more to check\n",
    "### Extracting the data from the example 'column_data.h5'.  \n",
    "with h5py.File(f'Case2_finalsim.demo/ats_vis_snow_data.h5','r') as hdf:\n",
    "    ls = list(hdf.keys())\n",
    "    print('List of datasets in this file: \\n \\n', ls)\n",
    "    print('\\n')\n",
    "    #print(np.array(hdf.get('air temperature [K]')))\n",
    "    #print(len(np.array(hdf.get('air temperature [K]'))))\n",
    "    #air_temp = np.array(hdf.get('air temperature [K]'))"
   ]
  },
  {
   "cell_type": "markdown",
   "id": "b5e154f9",
   "metadata": {},
   "source": [
    "**Comments:** \n",
    "\n",
    "- Interesting variables - snow-density, snow-melt, snow-precipitation\n",
    "\n",
    "The following variable definitions were determined from ATS 1.0 docs:\n",
    "\n",
    "- Key for snow-density: “snow density” [kg m^-3]\n",
    "- Key for snow-melt: “snowmelt” [m_SWE s^-1]\n",
    "- Key for snow-precipitation: “snow precipitation” [m_SWE s^-1]\n",
    "- Key for unfrozen-fraction: “unfrozen fraction” [-] 1 –> all surface water, 0 –> all surface ice\n",
    "\n"
   ]
  },
  {
   "cell_type": "code",
   "execution_count": null,
   "id": "326da872",
   "metadata": {},
   "outputs": [],
   "source": []
  },
  {
   "cell_type": "code",
   "execution_count": null,
   "id": "6faf9ec7",
   "metadata": {},
   "outputs": [],
   "source": []
  },
  {
   "cell_type": "code",
   "execution_count": null,
   "id": "15c32239",
   "metadata": {},
   "outputs": [],
   "source": []
  },
  {
   "cell_type": "code",
   "execution_count": null,
   "id": "98a6bc18",
   "metadata": {},
   "outputs": [],
   "source": []
  }
 ],
 "metadata": {
  "kernelspec": {
   "display_name": "Python 3 (ipykernel)",
   "language": "python",
   "name": "python3"
  },
  "language_info": {
   "codemirror_mode": {
    "name": "ipython",
    "version": 3
   },
   "file_extension": ".py",
   "mimetype": "text/x-python",
   "name": "python",
   "nbconvert_exporter": "python",
   "pygments_lexer": "ipython3",
   "version": "3.8.13"
  }
 },
 "nbformat": 4,
 "nbformat_minor": 5
}
