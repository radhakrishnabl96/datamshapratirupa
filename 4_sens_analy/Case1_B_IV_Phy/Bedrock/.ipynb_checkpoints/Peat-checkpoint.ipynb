{
 "cells": [
  {
   "cell_type": "markdown",
   "id": "4a3af778-eaaa-4e90-843d-416c0dc12cd8",
   "metadata": {},
   "source": [
    "# RK Model \n",
    "- The model is an attempt to understand the influence of physical processes in cold regions. A 2-D transect along the Yakou catchement (Tibetan Plateau, Heihe river basin) is the field site.   \n",
    "- The notebook describes the model configurations, prepares the dataset (if required), extracts the output and plots it. \n",
    "\n",
    "### Brief description:\n",
    "\n",
    "**Goal – To test the sensitivity of physical parameters to the subsurface temperature and subsurface moisture data considering air temperature as the top boundary condition (Scenario IV). The sensitivity analysis with and without precipitation influence (snow and rain) can be tested. The physical parameters (porosity, pore compressibility, permeability, density) for Peat, Mineral and Bedrock is varied [three simulations each]**\n",
    "\n",
    "- T : 1 year (365 days) - Daily time steps \n",
    "- Processes: Subsurface permafrost - flow, energy\n",
    "- Mesh: Pseudo 1-D column with three layers - organic, mineral, and bedrock layer with increasing cell sizes.\n",
    "- Initial conditions : -1.0 m – hydrostatic head (in m) to represent the permafrost table level or active layer, 264.15 K (-3°C).\n",
    "- Boundary conditions :  Top - **Actual daily air temprature (2017)**\n",
    "- Note that the VGc properties of bedrock are less significant since they are mostly saturated.\n",
    "\n",
    "- Parameters:\n",
    "    - VGc - Peat: alpha – 0.001, n – 1.4, wr = 0.1\n",
    "    - VGc - Mineral: alpha – 0.0002, n – 1.4, wr = 0.05\n",
    "    - VGc - Bedrock: alpha – 0.03, n – 2, wr = 0.05\n",
    "    - Smoothing interval - Peat, Mineral, Bedrock - 0.1\n",
    "    - Thermal conductivity: Peat – L_dry – 0.07 W m^-1 K^-1, alpha_frozen = 1.0, alpha_unfrozen = 0.5\n",
    "    - Thermal conductivity: Mineral & Bedrock – L_dry – 0.29 W m^-1 K^-1, alpha_frozen = 1.0, alpha_unfrozen = 0.5\n",
    "    - Porosity, Compressible porosity: Peat – [0.3, 0.5, 0.9], [1e-08, 1e-07, 1e-06] Pa^-1; \n",
    "    - Porosity, Compressible porosity: Mineral – [0.2, 0.3, 0.5], [1e-07, 1e-08, 1e-09] Pa^-1; \n",
    "    - Porosity, Compressible porosity: Bedrock – [0.2, 0.3, 0.4], [1e-08, 1e-09, 1e-10] Pa^-1; \n",
    "    - Permeability: Peat – [1e-12, 1e-11, 1e-10] m^2   \n",
    "    - Permeability: Mineral – [1e-14, 1e-13, 1e-12] m^2 \n",
    "    - Permeability: Bedrock – [1e-15, 1e-14, 1e-13] m^2 \n",
    "    - Density: Peat – [500, 700, 900] kg/m^3 \n",
    "    - Density: Mineral – [1700, 1900, 2300] kg/m^3 \n",
    "    - Density: Bedrock – [1500, 2000, 2500] kg/m^3 \n",
    "    \n",
    "    \n",
    "\n",
    "\n",
    "- Observations:\n",
    "    - Temperature [K] @ 0.01 m, 0.04 m, 0.1 m, 0.2 m, 0.4 m, 0.8 m, 1.2 m, 1.6 m 5 m, 10 m, 20 m, 30 m, 40 m.\n",
    "    - Saturation liquid [%] @ 0.01 m, 0.04 m, 0.1 m, 0.2 m, 0.4 m, 0.8 m, 1.2 m, 1.6 m 5 m, 10 m.\n",
    "    - Saturation ice [%] @ 0.01 m, 0.04 m, 0.1 m, 0.2 m, 0.4 m, 0.8 m, 1.2 m, 1.6 m 5 m, 10 m.\n",
    "\n",
    "- I/O files:\n",
    "    - Xml file: Case1_B_IV_Phy_{props}[parameter_number].xml\n",
    "    - Output folders (.demo file): \n",
    "        - Ppor/Case1_B_IV_Phy_Ppor[1-3].demo\n",
    "        - Pporc/Case1_B_IV_Phy_Pporc[1-3].demo\n",
    "        - Pperm/Case1_B_IV_Phy_Pperm[1-3].demo\n",
    "        - Pden/Case1_B_IV_Phy_Pden[1-3].demo\n",
    "        - Mpor/Case1_B_IV_Phy_Mpor[1-3].demo\n",
    "        - Mporc/Case1_B_IV_Phy_Mporc[1-3].demo\n",
    "        - Mperm/Case1_B_IV_Phy_Mperm[1-3].demo\n",
    "        - Mden/Case1_B_IV_Phy_Mden[1-3].demo\n",
    "        - Bpor/Case1_B_IV_Phy_Bpor[1-3].demo\n",
    "        - Bporc/Case1_B_IV_Phy_Bporc[1-3].demo\n",
    "        - Bperm/Case1_B_IV_Phy_Bperm[1-3].demo\n",
    "        - Bden/Case1_B_IV_Phy_Bden[1-3].demo\n",
    "\n",
    "\n",
    "- Expected results: Since we are not considering the precipitation input at the top, we might not observe significant changes with respect to the Physical properties. However, during the thawing season there is a release of water due to which the change in the parameters might significantly affect the results in the upper layers [Peat and mineral layer]. The changes might be as follows:\n",
    "    - Porosity : Effects on water flow - As the porosity increases, the water flow within the system will also increase (including moisture), heat advection rate will also increase in the system, however it won't majorly affect a 1-D column (Probably during the thawing season it might have an influence). Effects on heat flow - As the porosity increases, the VWC (can be ice, gas, liquid) also increases. The thermal capacity of the soil medium will decrease, as thermal capacity of liquid < thermal capacity of solids. Therefore, the transfer of heat is reduced which might result in lower temperatures. **Porosity ↑ --> s_w ↑ --> T ↓**     \n",
    "    - Compressible porosity: Is this the porosity which might change the compressibility of the soil medium? Normally applicable for confined aquifers? Based on this assumption, it might not make a significant impact on the results.   \n",
    "    - Permeability - Effects on water flow - As the permeability increases, the water flow within the medium will also increase because the darcy velocity is affected. Therefore, we will be expecting more moisture movement. The darcy velocity also increases the thermal advection rate within the medium - which might result in greater temperatures during the summer [when ice thaws]. **Permeability ↑ --> s_w ↑ (hard to say) --> T ↑ (During summer - when T_soil > 0°C)**\n",
    "    - Soil density: As the soil density increases, the thermal capacity of the soil also increases. This will lead to greater temperatures within the soil column. It's effects on soil moisture is hard to say, it might decreases as density increases. **Soil density ↑ --> s_w ↓ (might decrease) --> T ↑**\n",
    "    \n",
    "### Detailed description:\n",
    "\n",
    "#### 1. Physical processes - Cases: Case 1\n",
    "The physical processes that are considered - Subsurface flow + Subsurface energy (with ice content). A custom strong coupler - 'subsurface permafrost' couples the 'permafrost flow' and 'three-phase energy' PKs. \n",
    "\n",
    "<img src='../figures/Case1_process.jpg' width='500' height='500' alt='Case1 physical process' align='center' />  \n",
    "\n",
    "\n",
    "\n",
    "\n",
    "#### 2. Mesh - Stages: Stage B\n",
    "Two types of meshes are considered here. The first mesh (Yakou_column.exo) resembles the properties of the hillslope transect that we would like to simulate. Once the meshing issues are resolved, we will be using this mesh. The second mesh is a test mesh that was generated by the ATS developers with similar properties. We will be using this mesh. \n",
    "\n",
    "1. Yakou_column.exo - Organic layer (0.25 m), Mineral layer (0.25 - 20 m), Bedrock (20 – 40 m) with increasing cell thickness. [Cell thickness: 0.05 m until 0.25 m (Organic layer); 0.05 m until 0.25 m and increasing cell size by 2 units until 2 m, 2 m - 20 m, we have 2 m cell sizes (Mineral layer); we again have 2 m cell sizes from 20 m - 40 m]\n",
    "\n",
    "2. tes_org_spinup_column.exo - Organic layer (0.385 m), Mineral layer (2.24 m), Bedrock (42.48 m); Cell thickness starts with a magnitude of 0.01 m and increases in magnitude of 1.2, 1.4 & 1.5 as cell numbers increase from 20, 20 - 26, and >26. \n",
    "\n",
    "##### Mesh - Run it with yakou_column.xml once the meshing issues has been resolved.  \n",
    "\n",
    "Images of 'tes_org_spinup_column.exo':\n",
    "\n",
    "<img src='../figures/1D_test_org_spinup_column_1.PNG' width='70' height='90' alt='1D_test_org_column_1' align='left' />  \n",
    "\n",
    "<img src='../figures/1D_test_org_spinup_column_2.PNG' width='120' height='200' alt='1D_test_org_column_2' align='center' />  \n",
    "\n"
   ]
  },
  {
   "cell_type": "markdown",
   "id": "d1545930-e0e6-4b2e-b7ef-2d423f58b75c",
   "metadata": {},
   "source": [
    "#### 3. Scenarios (IC, BC): Scenario I\n",
    "\n",
    "\n",
    "| :------:               | IC   |  BC    |                 \n",
    "| :----------------------------------------------------------------- | :------: | :------: |  \n",
    "| Hydraulic                                                          | Hydrostatic head (-1 m) | - |\n",
    "| Thermal                                                            |  270.15 K (-3 °C)   |  BCTopAiractualT = actual daily air temperature (2017) |\n",
    "\n",
    "##### Time period (T) of **5 years (daily time step)**\n",
    "\n",
    "\n",
    "#### 4. Parameters:\n",
    "\n",
    "\n",
    "|Sl. No.|\tParameter type|\tParameter|\tUnit|\tSoil type/Water\t|Current value|\n",
    "| --- | --- | --- | --- | --- | --- |\n",
    "1 |\tVariably saturated properties - van Genuchten model |\tvan Genuchten alpha |\tPa^{-1} |\tPeat |\t0.001 |\n",
    "2 |\tVariably saturated properties - van Genuchten model |\tvan Genuchten n |\t[-] | Peat |\t\t1.4 |\n",
    "3 |\tVariably saturated properties - van Genuchten model |\tresidual saturation\t| [-] | Peat |\t\t0.1 |\n",
    "4 |\tVariably saturated properties - van Genuchten model |\tsmoothing interval width \t| [saturation] | Peat | 0.1 |\n",
    "5 |\tVariably saturated properties - van Genuchten model |\tvan Genuchten alpha | Pa^{-1} | Mineral |\t0.0002 |\n",
    "6 |\tVariably saturated properties - van Genuchten model |\tvan Genuchten n | [-] | Mineral | 1.4 |\n",
    "7 |\tVariably saturated properties - van Genuchten model |\tresidual saturation\t| [-]\t| Mineral |\t\t0.05 |\n",
    "8 |\tVariably saturated properties - van Genuchten model |\tsmoothing interval width  |\t[saturation] | Mineral | 0.1 |\n",
    "9 |\tVariably saturated properties - van Genuchten model |\tvan Genuchten alpha\t| Pa^{-1}\t| Bedrock | 0.03 |\n",
    "10 | Variably saturated properties - van Genuchten model |\t\tvan Genuchten n\t| [-] | Bedrock | 2 |\n",
    "11 | Variably saturated properties - van Genuchten model |\t\tresidual saturation\t| [-]\t| Bedrock | 0.05 |\n",
    "12 | Variably saturated properties - van Genuchten model |\t\tsmoothing interval width \t| [saturation] | Bedrock |0.1 |\n",
    "13 | \tPermafrost model parameters - fpd permafrost model [Cryosuction] |\tminimum dsi_dpressure magnitude |\t??\t| For the entire model |\t1.00E-12 |\n",
    "14 |\tThermal conductivity evaluator: Three-phase wet/dry |\tThermal conductivity, saturated (unfrozen) | \t[W m^-1 K^-1] |\tPeat |\t0.67 |\n",
    "15 |\tThermal conductivity evaluator: Three-phase wet/dry |\tThermal conductivity, dry \t| [W m^-1 K^-1] |\tPeat |\t\t0.07 |\n",
    "16 |\tThermal conductivity evaluator: Three-phase wet/dry |\tUnsaturated alpha frozen\t| [-]\t |\tPeat |\t1 |\n",
    "17 |\tThermal conductivity evaluator: Three-phase wet/dry |\tUnsaturated alpha unfrozen\t| [-]\t|\tPeat |\t0.5 |\n",
    "18 |\tThermal conductivity evaluator: Three-phase wet/dry |\tThermal conductivity, saturated (unfrozen) | \t[W m^-1 K^-1] |\tMineral |\t1 |\n",
    "19 |\tThermal conductivity evaluator: Three-phase wet/dry |\tThermal conductivity, dry | [W m^-1 K^-1] |\tMineral |\t\t0.29 |\n",
    "20 |\tThermal conductivity evaluator: Three-phase wet/dry |\tUnsaturated alpha frozen| [-] |\tMineral |\t\t1 |\n",
    "21 |\tThermal conductivity evaluator: Three-phase wet/dry |\tUnsaturated alpha unfrozen | [-] |\tMineral |\t\t0.5 |\n",
    "22 |\tThermal conductivity evaluator: Three-phase wet/dry |\tThermal conductivity, saturated (unfrozen) |\t[W m^-1 K^-1] |\tBedrock |\t1 |\n",
    "23 |\tThermal conductivity evaluator: Three-phase wet/dry |\tThermal conductivity, dry \t| [W m^-1 K^-1] |\tBedrock |\t\t0.29 |\n",
    "24 |\tThermal conductivity evaluator: Three-phase wet/dry |\tUnsaturated alpha frozen\t| [-]\t |\tBedrock |\t1 |\n",
    "25 |\tThermal conductivity evaluator: Three-phase wet/dry |\tUnsaturated alpha unfrozen\t| [-] |\tBedrock |\t\t0.5 |\n",
    "39 |\tPhysical |\tBase porosity |\t[-] |\tPeat |\t0.5 |\n",
    "40 |\tPhysical |\tBase porosity |\t[-]\t | Mineral |\t0.3 |\n",
    "41 |\tPhysical |\tBase porosity | [-]\t| bedrock\t | 0.3 |\n",
    "42 |\tPhysical |\tPore compressibility\t| [Pa^-1] |\tPeat |\t1.00E-07 |\n",
    "43 |\tPhysical |\tPore compressibility\t| [Pa^-1] |\tMineral |\t1.00E-08 |\n",
    "44 |\tPhysical |\tPore compressibility\t| [Pa^-1] |\tbedrock |\t1.00E-09 |\n",
    "45 |\tPhysical / Hydraulic |\tPermeability\t| m^2? |\tPeat |\t1.00E-11 |\n",
    "46 |\tPhysical / Hydraulic |\tPermeability\t|m^2? |\tMineral |\t1.00E-13 |\n",
    "47 |\tPhysical / Hydraulic |\tPermeability\t| m^2? |\tbedrock |\t1.00E-14 |\n",
    "48 |\tPhysical |\tDensity\t| kg/m^3? |\tPeat |\t7.00E+02 |\n",
    "49 | \tPhysical |\tDensity\t|kg/m^3? |\tMineral |\t1900 |\n",
    "50 |\tPhysical |\tDensity\t|kg/m^3? |\tbedrock |\t2000 |\n",
    "\n",
    "- The values of Bedrock are currently similar to that of Minerals. While conducting the parameter sensitivity analysis, the values will be changed.\n",
    "\n",
    "#### 5. Visualization:\n",
    "\n",
    "- The entire subsurface domain is visualized. \n",
    "- Cycles start period stop\" - \"{0,100,-1}\". The unit is in days. Every 100 days, one observation instance of the entire column is dumped. T = 1825 days, therefore 20 instances are stored. \n",
    "\n",
    "#### 6. Observations:\n",
    "\n",
    "- The variables under observation taken every day - {0.0,1.0,-1.0}: \n",
    "\n",
    "    - Temperature [K] @ 0.01 m, 0.04 m, 0.1 m, 0.2 m, 0.4 m, 0.8 m, 1.2 m, 1.6 m 5 m, 10 m, 20 m, 30 m, 40 m.\n",
    "    - Saturation liquid [%] @ 0.01 m, 0.04 m, 0.1 m, 0.2 m, 0.4 m, 0.8 m, 1.2 m, 1.6 m 5 m, 10 m.\n",
    "    - Saturation ice [%] @ 0.01 m, 0.04 m, 0.1 m, 0.2 m, 0.4 m, 0.8 m, 1.2 m, 1.6 m 5 m, 10 m.\n",
    "\n",
    "\n",
    "#### I/O files:\n",
    "\n",
    "- Dataset: Air temperature at 5 m prepared in the notebook - /home/rk/ats_rk/testing/ats-demos/rk_model/Data/Data_Yakou/Yakou_met_data_ITP_rk/**AWS_final_metdata_2015_20.ipynb\n",
    "- I/O files:\n",
    "    - Xml file: Case1_B_IV_Phy_{props}{parameter_number}.xml\n",
    "    - Output folders (.demo file): \n",
    "        - Ppor/Case1_B_IV_Phy_Ppor[1-3].demo\n",
    "        - Pporc/Case1_B_IV_Phy_Pporc[1-3].demo\n",
    "        - Pperm/Case1_B_IV_Phy_Pperm[1-3].demo\n",
    "        - Pden/Case1_B_IV_Phy_Pden[1-3].demo\n",
    "        - Mpor/Case1_B_IV_Phy_Mpor[1-3].demo\n",
    "        - Mporc/Case1_B_IV_Phy_Mporc[1-3].demo\n",
    "        - Mperm/Case1_B_IV_Phy_Mperm[1-3].demo\n",
    "        - Mden/Case1_B_IV_Phy_Mden[1-3].demo\n",
    "        - Bpor/Case1_B_IV_Phy_Bpor[1-3].demo\n",
    "        - Bporc/Case1_B_IV_Phy_Bporc[1-3].demo\n",
    "        - Bperm/Case1_B_IV_Phy_Bperm[1-3].demo\n",
    "        - Bden/Case1_B_IV_Phy_Bden[1-3].demo"
   ]
  },
  {
   "cell_type": "markdown",
   "id": "b06562ed-03c8-47ff-a0a3-a5847105b90b",
   "metadata": {},
   "source": [
    "## Workflow:\n",
    "1. Importing all the modules & naming the directories\n",
    "2. Plotting the input data and the VGc parameters \n",
    "3. Plotting the observation results.\n",
    "4. Comparing the simulation results with the measurements\n",
    "5. Finding the RMSE value - yearly average and monthly average for a single group of change in parameters [Ex: Palpha[1-5]]\n",
    "6. Comparison - Plotting the RMSE values yearly and monthly "
   ]
  },
  {
   "cell_type": "markdown",
   "id": "c1ac501e",
   "metadata": {},
   "source": [
    "## The ats code is written in this way:\n",
    "\n",
    "- Test the script first before running the simulations! - It was observed that the output error was not displayed.\n",
    "\n",
    "A. Creating folders and executing the ats command\n",
    "1. Creating a demo directory : mkdir output_file_name.demo\n",
    "2. 'cd' into the demo directory : cd out_file_name.demo\n",
    "3. Excecuting the ats command : ats --xml_file=../input_file_name.xml &>out.log\n",
    "\n",
    "B. Replacing the entire line within the 'input_file_name.xml' \n",
    "1. Parsing ats xml file and changing particular lines.\n",
    "\n",
    "C. Running task B dynamically by creating multiple input files\n",
    "1. Copying the main file\n",
    "2. Running task B and creating multiple input files with replaced lines\n",
    "\n",
    "D. Running task A dynamically on the changed input files\n",
    "1. Accessing the name of the input file\n",
    "2. Running task A on the changed input files\n",
    "\n",
    "E. Deleting the newly created xml files"
   ]
  },
  {
   "cell_type": "code",
   "execution_count": 7,
   "id": "92418e61",
   "metadata": {},
   "outputs": [],
   "source": [
    "import os\n",
    "import subprocess\n",
    "import shutil\n",
    "import fileinput"
   ]
  },
  {
   "cell_type": "markdown",
   "id": "eb6679df-62c9-4a82-b7bd-33cdcdd0560c",
   "metadata": {},
   "source": [
    "#### A. Creating folders and executing the ats command\n",
    "1. Creating a demo directory : mkdir output_file_name.demo\n",
    "2. 'cd' into the demo directory : cd out_file_name.demo\n",
    "3. Excecuting the ats command : ats --xml_file=../input_file_name.xml &>out.log"
   ]
  },
  {
   "cell_type": "code",
   "execution_count": 8,
   "id": "0ca9d1a2-76f3-41d1-9942-b51322e8e979",
   "metadata": {},
   "outputs": [],
   "source": [
    "def ats_run(file_name):\n",
    "    \"\"\"\n",
    "    Function that calls & reproduces the command line options for executing ats. It involves mainly the following steps:\n",
    "    1. Creating a demo directory : mkdir output_file_name.demo\n",
    "    2. 'cd' into the demo directory : cd out_file_name.demo\n",
    "    3. Excecuting the ats command : ats --xml_file=../input_file_name.xml &>out.log\n",
    "    \n",
    "    Note: To execute the command - Please be in the directory where the input xml file is present.\n",
    "    \n",
    "    Parameters:\n",
    "    \n",
    "    -----\n",
    "    INPUT\n",
    "    \n",
    "    file_name : string\n",
    "    \n",
    "    The input xml file name and the directory name (both are the same). Ex: infiltration\n",
    "    \n",
    "    \n",
    "    -----\n",
    "    OUTPUT:\n",
    "    \n",
    "    Runs the ats command and dumps all the outputs in file_name_i.demo\n",
    "    \n",
    "    \"\"\"\n",
    "    # Removing the directory if it exists\n",
    "    if os.path.isdir(f'{file_name}.demo/'):\n",
    "        shutil.rmtree(f'{file_name}.demo/')\n",
    "    \n",
    "    # Making a new directory\n",
    "    os.mkdir(f'{file_name}.demo')\n",
    "    \n",
    "    # Changing the directory to the demo directory\n",
    "    os.chdir(f'{file_name}.demo/')\n",
    "    \n",
    "    # Running the ats command\n",
    "    ats_command = f\"ats --xml_file=../{file_name}.xml >out.log\"\n",
    "    \n",
    "    os.system(ats_command)\n",
    "    #output = os.popen(ats_command).read()\n",
    "    \n",
    "    #return output\n",
    "    \n",
    "        "
   ]
  },
  {
   "cell_type": "markdown",
   "id": "27d7877d-1bdc-4ef8-90fd-f85f4e22bb40",
   "metadata": {},
   "source": [
    "B. Replacing the entire line within the 'input_file_name.xml' \n",
    "1. Parsing ats xml file and changing particular lines"
   ]
  },
  {
   "cell_type": "code",
   "execution_count": 9,
   "id": "e0dae2d5-bebf-4c94-9735-506cdbc08d61",
   "metadata": {},
   "outputs": [],
   "source": [
    "### Writing a function that changes the xml file details\n",
    "\n",
    "def xml_detailschange(xml_file_name, line_search, line_replace, i):\n",
    "    \"\"\"\n",
    "    A function defined to replace a particular line of code (Helps in changing parameters)\n",
    "    \n",
    "    Parameters:\n",
    "    \n",
    "    -----\n",
    "    INPUT:\n",
    "    \n",
    "    xml_file_name : The input xml file name. Ex: infiltration.xml\n",
    "    \n",
    "    line_search : The line that needs to be replaced\n",
    "    \n",
    "    line_replace : The new line that will replace the searched line\n",
    "    \n",
    "    i : iteratively storing the new xml file \n",
    "    \n",
    "    OUTPUT:\n",
    "    \n",
    "    A new version of the same file with the replaced lines.\n",
    "    \n",
    "    \"\"\"\n",
    "    # Changing the value within the input file and storing them in the same input file\n",
    "    #with fileinput.FileInput(xml_file_name, inplace=True, backup='.bak') as file:\n",
    "    with fileinput.FileInput(xml_file_name, inplace=True) as file:\n",
    "        for line in file:\n",
    "            print(line.replace(line_search, line_replace), end='')\n",
    "    \n"
   ]
  },
  {
   "cell_type": "markdown",
   "id": "08d9276d-ea44-4574-a9fc-20670b972e9f",
   "metadata": {},
   "source": [
    "C. Running task B dynamically by creating multiple input files:\n",
    "1. Copying the main file\n",
    "2. Running task B and creating multiple input files with replaced lines"
   ]
  },
  {
   "cell_type": "code",
   "execution_count": 10,
   "id": "73ed48b8-fb01-4a06-b1f4-82047ae684ce",
   "metadata": {},
   "outputs": [
    {
     "name": "stdout",
     "output_type": "stream",
     "text": [
      "/home/rk/ats_rk/testing/ats-demos/rk_model/Case1_B_IV_Phy/Peat\n"
     ]
    }
   ],
   "source": [
    "main_cwd = os.getcwd()\n",
    "print(main_cwd)"
   ]
  },
  {
   "cell_type": "markdown",
   "id": "4b99a79b-e3d3-4a39-84c7-175000e702af",
   "metadata": {},
   "source": [
    "### 1. Porosity\n",
    "- Always check within the xml file if that is the only line. \n",
    "- Change {param}_replace, param_name, line_search, line_replace"
   ]
  },
  {
   "cell_type": "code",
   "execution_count": 11,
   "id": "74025161-4fe3-4e8f-bc03-65dedece9f27",
   "metadata": {},
   "outputs": [],
   "source": [
    "## Changing the base porosity dynamically values dynamically\n",
    "por_replace = [0.3, 0.5, 0.9]\n",
    "os.chdir(main_cwd)\n",
    "xml_file_name = 'Case1_B_IV_Phy_P.xml'\n",
    "xml_file = 'Case1_B_IV_Phy_P'\n",
    "param_name = 'por'"
   ]
  },
  {
   "cell_type": "code",
   "execution_count": 12,
   "id": "20b94558-e093-4229-b9b6-81956f91132c",
   "metadata": {},
   "outputs": [],
   "source": [
    "# Copying the main file i number of times [Number of parameter values]\n",
    "for i, values in enumerate(por_replace):\n",
    "    \n",
    "    # Copying the main file 'i' number of times and storing the ith value in the new files\n",
    "    main_file_name = f'{xml_file}.xml'\n",
    "    copied_file_name = f'{xml_file}{param_name}{i}.xml'\n",
    "    os.system(f'cp {main_file_name} {copied_file_name}')\n",
    "    "
   ]
  },
  {
   "cell_type": "markdown",
   "id": "816122b4-1f6f-41f2-a610-c5969d0f4dd8",
   "metadata": {},
   "source": [
    "### Wait for a moment"
   ]
  },
  {
   "cell_type": "code",
   "execution_count": 13,
   "id": "9077bead-45e9-46ef-8bad-76c7cf1821e0",
   "metadata": {},
   "outputs": [],
   "source": [
    "# Changing the values in the file\n",
    "for i, values in enumerate(por_replace):\n",
    "    \n",
    "    # The copied file names for which the values have been changed\n",
    "    copied_file_name = f'{xml_file}{param_name}{i}.xml'\n",
    "\n",
    "    # Storing the searched and replaced line in a variable\n",
    "    # Note - Ensure that this line is not repeated in another place withing the xml file\n",
    "    line_search = f'<Parameter name=\"value\" type=\"double\" value=\"0.50\" />'\n",
    "    line_replace = f'<Parameter name=\"value\" type=\"double\" value=\"{values}\" />'\n",
    "    \n",
    "    #print(line_replace)\n",
    "    # Changing a line within the xml file\n",
    "    xml_detailschange(copied_file_name, line_search, line_replace, i)\n",
    "    \n",
    "    \n",
    "    #os.chdir(main_cwd)"
   ]
  },
  {
   "cell_type": "markdown",
   "id": "04719750-873a-4757-989d-5c388d665d96",
   "metadata": {},
   "source": [
    "### Check if the files have been created with the required values"
   ]
  },
  {
   "cell_type": "code",
   "execution_count": 14,
   "id": "5e73d044-e9d8-473e-b843-c33a762d536c",
   "metadata": {},
   "outputs": [
    {
     "name": "stdout",
     "output_type": "stream",
     "text": [
      "/home/rk/ats_rk/testing/ats-demos/rk_model/Case1_B_IV_Phy/Peat\n"
     ]
    }
   ],
   "source": [
    "# Ensuring that we are in the right directory\n",
    "\n",
    "print(main_cwd)"
   ]
  },
  {
   "cell_type": "markdown",
   "id": "199fc2f0-af9a-4065-91bd-03367334a006",
   "metadata": {},
   "source": [
    "D. Running task A dynamically on the changed input files\n",
    "1. Accessing the name of the input file\n",
    "2. Running task A on the changed input files\n"
   ]
  },
  {
   "cell_type": "code",
   "execution_count": 15,
   "id": "998c8af0-0001-481e-9fb4-84d5de9f445d",
   "metadata": {},
   "outputs": [
    {
     "name": "stdout",
     "output_type": "stream",
     "text": [
      "None\n",
      "None\n",
      "None\n"
     ]
    }
   ],
   "source": [
    "# Running the ats command with these changed values\n",
    "for i, values in enumerate(por_replace):\n",
    "    \n",
    "    copied_file_name = f'{xml_file}{param_name}{i}'\n",
    "    \n",
    "    output = ats_run(copied_file_name)\n",
    "    \n",
    "    print(output)\n",
    "    \n",
    "    os.chdir(main_cwd)\n",
    "    "
   ]
  },
  {
   "cell_type": "code",
   "execution_count": 21,
   "id": "a2ae007b-f993-424e-b58b-362ab203f5bd",
   "metadata": {},
   "outputs": [
    {
     "data": {
      "text/plain": [
       "'/home/rk/ats_rk/testing/ats-demos/rk_model/Runtime_ATS'"
      ]
     },
     "execution_count": 21,
     "metadata": {},
     "output_type": "execute_result"
    }
   ],
   "source": [
    "os.getcwd()"
   ]
  },
  {
   "cell_type": "markdown",
   "id": "3a083d60-28a3-42e8-8962-abd7151d8ef4",
   "metadata": {},
   "source": [
    "### 2. Pore compressibility\n",
    "- Always check within the xml file if that is the only line. \n",
    "- Change {param}_replace, param_name, line_search, line_replace"
   ]
  },
  {
   "cell_type": "code",
   "execution_count": 16,
   "id": "54d1a862-1004-413f-b1d6-1c6940f586a4",
   "metadata": {},
   "outputs": [
    {
     "data": {
      "text/plain": [
       "'/home/rk/ats_rk/testing/ats-demos/rk_model/Case1_B_IV_Phy/Peat'"
      ]
     },
     "execution_count": 16,
     "metadata": {},
     "output_type": "execute_result"
    }
   ],
   "source": [
    "os.getcwd()"
   ]
  },
  {
   "cell_type": "code",
   "execution_count": 17,
   "id": "809d3168-3ebb-4328-af21-f339119e3991",
   "metadata": {},
   "outputs": [],
   "source": [
    "## Changing the base porosity dynamically\n",
    "porc_replace = [1.0e-08, 1.0e-07, 1.0e-06]\n",
    "os.chdir(main_cwd)\n",
    "xml_file_name = 'Case1_B_IV_Phy_P.xml'\n",
    "xml_file = 'Case1_B_IV_Phy_P'\n",
    "param_name = 'porc'"
   ]
  },
  {
   "cell_type": "code",
   "execution_count": 18,
   "id": "e30207f1-14dd-452e-ace6-cdc6cf2c8777",
   "metadata": {},
   "outputs": [],
   "source": [
    "# Copying the main file i number of times [Number of parameter values]\n",
    "for i, values in enumerate(porc_replace):\n",
    "    \n",
    "    # Copying the main file 'i' number of times and storing the ith value in the new files\n",
    "    main_file_name = f'{xml_file}.xml'\n",
    "    copied_file_name = f'{xml_file}{param_name}{i}.xml'\n",
    "    os.system(f'cp {main_file_name} {copied_file_name}')\n",
    "    "
   ]
  },
  {
   "cell_type": "markdown",
   "id": "2638b165-df6a-4f3a-9d93-fd25685be2b0",
   "metadata": {},
   "source": [
    "### Wait for a moment"
   ]
  },
  {
   "cell_type": "code",
   "execution_count": 19,
   "id": "4660c45b-e8b3-412d-b61e-67ebba4715a1",
   "metadata": {},
   "outputs": [],
   "source": [
    "# Changing the values in the file\n",
    "for i, values in enumerate(porc_replace):\n",
    "    \n",
    "    # The copied file names for which the values have been changed\n",
    "    copied_file_name = f'{xml_file}{param_name}{i}.xml'\n",
    "\n",
    "    # Storing the searched and replaced line in a variable\n",
    "    # Note - Ensure that this line is not repeated in another place withing the xml file\n",
    "    line_search = f'<Parameter name=\"pore compressibility [Pa^-1]\" type=\"double\" value=\"1.0e-07\" />'\n",
    "    line_replace = f'<Parameter name=\"pore compressibility [Pa^-1]\" type=\"double\" value=\"{values}\" />'\n",
    "    \n",
    "    #print(line_replace)\n",
    "    # Changing a line within the xml file\n",
    "    xml_detailschange(copied_file_name, line_search, line_replace, i)\n",
    "    \n",
    "    \n",
    "    #os.chdir(main_cwd)"
   ]
  },
  {
   "cell_type": "markdown",
   "id": "9d221030-5269-4a49-a401-5620a2685602",
   "metadata": {},
   "source": [
    "### Check if the files have been created with the required values"
   ]
  },
  {
   "cell_type": "code",
   "execution_count": 20,
   "id": "4ad7ccbe-211b-4e04-9cfd-75bc7b7c8e88",
   "metadata": {},
   "outputs": [
    {
     "name": "stdout",
     "output_type": "stream",
     "text": [
      "/home/rk/ats_rk/testing/ats-demos/rk_model/Case1_B_IV_Phy/Peat\n"
     ]
    }
   ],
   "source": [
    "# Ensuring that we are in the right directory\n",
    "\n",
    "print(main_cwd)"
   ]
  },
  {
   "cell_type": "markdown",
   "id": "0dcb26dd-96ca-49ec-b028-cccbb8e0c657",
   "metadata": {},
   "source": [
    "D. Running task A dynamically on the changed input files\n",
    "1. Accessing the name of the input file\n",
    "2. Running task A on the changed input files\n"
   ]
  },
  {
   "cell_type": "code",
   "execution_count": 21,
   "id": "c6f625ab-3e99-4d2f-8944-de0a3f5a2503",
   "metadata": {},
   "outputs": [
    {
     "name": "stdout",
     "output_type": "stream",
     "text": [
      "None\n",
      "None\n",
      "None\n"
     ]
    }
   ],
   "source": [
    "# Running the ats command with these changed values\n",
    "for i, values in enumerate(porc_replace):\n",
    "    \n",
    "    copied_file_name = f'{xml_file}{param_name}{i}'\n",
    "    \n",
    "    output = ats_run(copied_file_name)\n",
    "    \n",
    "    print(output)\n",
    "    \n",
    "    os.chdir(main_cwd)\n",
    "    "
   ]
  },
  {
   "cell_type": "code",
   "execution_count": 21,
   "id": "14946d2c-5162-4826-9b37-506ba4221b7c",
   "metadata": {},
   "outputs": [
    {
     "data": {
      "text/plain": [
       "'/home/rk/ats_rk/testing/ats-demos/rk_model/Runtime_ATS'"
      ]
     },
     "execution_count": 21,
     "metadata": {},
     "output_type": "execute_result"
    }
   ],
   "source": [
    "os.getcwd()"
   ]
  },
  {
   "cell_type": "code",
   "execution_count": null,
   "id": "7c4b8e59-e043-408e-8843-35d0024f663d",
   "metadata": {},
   "outputs": [],
   "source": []
  },
  {
   "cell_type": "markdown",
   "id": "d99982ca-d69a-4aa2-98cc-58309d7ea797",
   "metadata": {},
   "source": [
    "### 3. Permeability \n",
    "- Always check within the xml file if that is the only line. \n",
    "- Change {param}_replace, param_name, line_search, line_replace"
   ]
  },
  {
   "cell_type": "code",
   "execution_count": 27,
   "id": "b9886e20-31b8-4328-a7ff-6a44a52e447e",
   "metadata": {},
   "outputs": [
    {
     "data": {
      "text/plain": [
       "'/home/rk/ats_rk/testing/ats-demos/rk_model/Case1_B_IV_Phy/Peat'"
      ]
     },
     "execution_count": 27,
     "metadata": {},
     "output_type": "execute_result"
    }
   ],
   "source": [
    "os.getcwd()"
   ]
  },
  {
   "cell_type": "code",
   "execution_count": 28,
   "id": "976d19c0-fd85-434b-8220-50f59a5f2eed",
   "metadata": {},
   "outputs": [],
   "source": [
    "## Changing the base porosity dynamically\n",
    "perm_replace = [1.0e-12, 1.0e-11, 1.0e-10]\n",
    "os.chdir(main_cwd)\n",
    "xml_file_name = 'Case1_B_IV_Phy_P.xml'\n",
    "xml_file = 'Case1_B_IV_Phy_P'\n",
    "param_name = 'perm'"
   ]
  },
  {
   "cell_type": "code",
   "execution_count": 29,
   "id": "4d674bd4-c6cb-4f5d-986e-36ac31918f75",
   "metadata": {},
   "outputs": [],
   "source": [
    "# Copying the main file i number of times [Number of parameter values]\n",
    "for i, values in enumerate(porc_replace):\n",
    "    \n",
    "    # Copying the main file 'i' number of times and storing the ith value in the new files\n",
    "    main_file_name = f'{xml_file}.xml'\n",
    "    copied_file_name = f'{xml_file}{param_name}{i}.xml'\n",
    "    os.system(f'cp {main_file_name} {copied_file_name}')\n",
    "    "
   ]
  },
  {
   "cell_type": "markdown",
   "id": "7068ce04-ba24-48cb-bb03-1d7666c9f4bd",
   "metadata": {},
   "source": [
    "### Wait for a moment"
   ]
  },
  {
   "cell_type": "code",
   "execution_count": 30,
   "id": "ff9488f6-c6e1-4dea-ad49-9b7bb3113516",
   "metadata": {},
   "outputs": [],
   "source": [
    "# Changing the values in the file\n",
    "for i, values in enumerate(porc_replace):\n",
    "    \n",
    "    # The copied file names for which the values have been changed\n",
    "    copied_file_name = f'{xml_file}{param_name}{i}.xml'\n",
    "\n",
    "    # Storing the searched and replaced line in a variable\n",
    "    # Note - Ensure that this line is not repeated in another place withing the xml file\n",
    "    line_search = f'<Parameter name=\"value\" type=\"double\" value=\"1.0e-12\" />'\n",
    "    line_replace = f'<Parameter name=\"value\" type=\"double\" value=\"{values}\" />'\n",
    "    \n",
    "    #print(line_replace)\n",
    "    # Changing a line within the xml file\n",
    "    xml_detailschange(copied_file_name, line_search, line_replace, i)\n",
    "    \n",
    "    \n",
    "    #os.chdir(main_cwd)"
   ]
  },
  {
   "cell_type": "markdown",
   "id": "3f00b2fa-2947-47cf-8ee5-23a381943218",
   "metadata": {},
   "source": [
    "### Check if the files have been created with the required values"
   ]
  },
  {
   "cell_type": "code",
   "execution_count": 31,
   "id": "63b640c1-072f-4a39-ac68-dbcedecaa603",
   "metadata": {},
   "outputs": [
    {
     "name": "stdout",
     "output_type": "stream",
     "text": [
      "/home/rk/ats_rk/testing/ats-demos/rk_model/Case1_B_IV_Phy/Peat\n"
     ]
    }
   ],
   "source": [
    "# Ensuring that we are in the right directory\n",
    "\n",
    "print(main_cwd)"
   ]
  },
  {
   "cell_type": "markdown",
   "id": "4537fe52-6964-48ec-9909-ea6f34678b97",
   "metadata": {},
   "source": [
    "D. Running task A dynamically on the changed input files\n",
    "1. Accessing the name of the input file\n",
    "2. Running task A on the changed input files\n"
   ]
  },
  {
   "cell_type": "code",
   "execution_count": 32,
   "id": "f5ae23d4-3f43-4556-be39-7e9ed392bdf2",
   "metadata": {},
   "outputs": [
    {
     "name": "stdout",
     "output_type": "stream",
     "text": [
      "None\n",
      "None\n",
      "None\n"
     ]
    }
   ],
   "source": [
    "# Running the ats command with these changed values\n",
    "for i, values in enumerate(porc_replace):\n",
    "    \n",
    "    copied_file_name = f'{xml_file}{param_name}{i}'\n",
    "    \n",
    "    output = ats_run(copied_file_name)\n",
    "    \n",
    "    print(output)\n",
    "    \n",
    "    os.chdir(main_cwd)\n",
    "    "
   ]
  },
  {
   "cell_type": "code",
   "execution_count": 21,
   "id": "8b22d6fc-75f3-49bb-800f-edbc55578b8c",
   "metadata": {},
   "outputs": [
    {
     "data": {
      "text/plain": [
       "'/home/rk/ats_rk/testing/ats-demos/rk_model/Runtime_ATS'"
      ]
     },
     "execution_count": 21,
     "metadata": {},
     "output_type": "execute_result"
    }
   ],
   "source": [
    "os.getcwd()"
   ]
  },
  {
   "cell_type": "code",
   "execution_count": null,
   "id": "f7f069a1-d65d-4504-b7dd-341c2fc36d53",
   "metadata": {},
   "outputs": [],
   "source": []
  },
  {
   "cell_type": "markdown",
   "id": "4b6460a7-4789-438b-b1b4-2895695ed63e",
   "metadata": {},
   "source": [
    "### 4. Density\n",
    "- Always check within the xml file if that is the only line. \n",
    "- Change {param}_replace, param_name, line_search, line_replace"
   ]
  },
  {
   "cell_type": "code",
   "execution_count": 33,
   "id": "f0d9e52d-f9cd-418a-bcf8-aa801a6a2059",
   "metadata": {},
   "outputs": [
    {
     "data": {
      "text/plain": [
       "'/home/rk/ats_rk/testing/ats-demos/rk_model/Case1_B_IV_Phy/Peat'"
      ]
     },
     "execution_count": 33,
     "metadata": {},
     "output_type": "execute_result"
    }
   ],
   "source": [
    "os.getcwd()"
   ]
  },
  {
   "cell_type": "code",
   "execution_count": 36,
   "id": "517bc46a-2e84-4ec5-aac2-2a125a8be213",
   "metadata": {},
   "outputs": [],
   "source": [
    "## Changing the Density dynamically\n",
    "den_replace = [500, 700, 900]\n",
    "os.chdir(main_cwd)\n",
    "xml_file_name = 'Case1_B_IV_Phy_P.xml'\n",
    "xml_file = 'Case1_B_IV_Phy_P'\n",
    "param_name = 'den'"
   ]
  },
  {
   "cell_type": "code",
   "execution_count": 37,
   "id": "dea8b367-5a6a-415b-897c-55c65a07446b",
   "metadata": {},
   "outputs": [],
   "source": [
    "# Copying the main file i number of times [Number of parameter values]\n",
    "for i, values in enumerate(den_replace):\n",
    "    \n",
    "    # Copying the main file 'i' number of times and storing the ith value in the new files\n",
    "    main_file_name = f'{xml_file}.xml'\n",
    "    copied_file_name = f'{xml_file}{param_name}{i}.xml'\n",
    "    os.system(f'cp {main_file_name} {copied_file_name}')\n",
    "    "
   ]
  },
  {
   "cell_type": "markdown",
   "id": "5612c2ed-86df-465b-a9ee-6ba7a99bab6d",
   "metadata": {},
   "source": [
    "### Wait for a moment"
   ]
  },
  {
   "cell_type": "code",
   "execution_count": 39,
   "id": "e87cf21f-7ef0-4159-8579-7100995a4f83",
   "metadata": {},
   "outputs": [],
   "source": [
    "# Changing the values in the file\n",
    "for i, values in enumerate(den_replace):\n",
    "    \n",
    "    # The copied file names for which the values have been changed\n",
    "    copied_file_name = f'{xml_file}{param_name}{i}.xml'\n",
    "\n",
    "    # Storing the searched and replaced line in a variable\n",
    "    # Note - Ensure that this line is not repeated in another place withing the xml file\n",
    "    \n",
    "    line_search = f'<Parameter name=\"value\" type=\"double\" value=\"700\" />'\n",
    "    line_replace = f'<Parameter name=\"value\" type=\"double\" value=\"{values}\" />'\n",
    "    \n",
    "    #print(line_replace)\n",
    "    # Changing a line within the xml file\n",
    "    xml_detailschange(copied_file_name, line_search, line_replace, i)\n",
    "    \n",
    "    \n",
    "    #os.chdir(main_cwd)"
   ]
  },
  {
   "cell_type": "markdown",
   "id": "669aaf93-490a-43e2-9a37-a0721ce4c5b3",
   "metadata": {},
   "source": [
    "### Check if the files have been created with the required values"
   ]
  },
  {
   "cell_type": "code",
   "execution_count": 40,
   "id": "35ceecfa-9d22-43d4-8784-aca0834c1959",
   "metadata": {},
   "outputs": [
    {
     "name": "stdout",
     "output_type": "stream",
     "text": [
      "/home/rk/ats_rk/testing/ats-demos/rk_model/Case1_B_IV_Phy/Peat\n"
     ]
    }
   ],
   "source": [
    "# Ensuring that we are in the right directory\n",
    "\n",
    "print(main_cwd)"
   ]
  },
  {
   "cell_type": "markdown",
   "id": "5977d0b4-806c-417a-bbde-45ae5e864edb",
   "metadata": {},
   "source": [
    "D. Running task A dynamically on the changed input files\n",
    "1. Accessing the name of the input file\n",
    "2. Running task A on the changed input files\n"
   ]
  },
  {
   "cell_type": "code",
   "execution_count": 41,
   "id": "9b9cdfcf-4b89-481c-b519-2bbdebcc3d3c",
   "metadata": {},
   "outputs": [
    {
     "name": "stdout",
     "output_type": "stream",
     "text": [
      "None\n",
      "None\n",
      "None\n"
     ]
    }
   ],
   "source": [
    "# Running the ats command with these changed values\n",
    "for i, values in enumerate(porc_replace):\n",
    "    \n",
    "    copied_file_name = f'{xml_file}{param_name}{i}'\n",
    "    \n",
    "    output = ats_run(copied_file_name)\n",
    "    \n",
    "    print(output)\n",
    "    \n",
    "    os.chdir(main_cwd)\n",
    "    "
   ]
  }
 ],
 "metadata": {
  "kernelspec": {
   "display_name": "Python 3",
   "language": "python",
   "name": "python3"
  },
  "language_info": {
   "codemirror_mode": {
    "name": "ipython",
    "version": 3
   },
   "file_extension": ".py",
   "mimetype": "text/x-python",
   "name": "python",
   "nbconvert_exporter": "python",
   "pygments_lexer": "ipython3",
   "version": "3.8.8"
  }
 },
 "nbformat": 4,
 "nbformat_minor": 5
}
