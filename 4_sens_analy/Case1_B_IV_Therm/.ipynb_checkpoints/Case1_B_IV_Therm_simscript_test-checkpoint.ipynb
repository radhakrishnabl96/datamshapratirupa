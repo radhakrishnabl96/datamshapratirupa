{
 "cells": [
  {
   "cell_type": "markdown",
   "id": "4a3af778-eaaa-4e90-843d-416c0dc12cd8",
   "metadata": {},
   "source": [
    "# RK Model \n",
    "- The model is an attempt to understand the influence of physical processes in cold regions. A 2-D transect along the Yakou catchement (Tibetan Plateau, Heihe river basin) is the field site.   \n",
    "- The notebook describes the model configurations, prepares the dataset (if required), extracts the output and plots it. \n",
    "\n",
    "### Brief description:\n",
    "\n",
    "**Goal – To test the sensitivity of physical parameters to the subsurface temperature and subsurface moisture data considering air temperature as the top boundary condition (Scenario IV). The sensitivity analysis with and without precipitation influence (snow and rain) can be tested. The thermal parameters (porosity, thermal conductivity (saturated), thermal conductivity (dry), alpha frozen, alpha unfrozen) for Peat, Mineral and Bedrock is varied [three simulations each]**\n",
    "\n",
    "- T : 1 year (365 days) - Daily time steps \n",
    "- Processes: Subsurface permafrost - flow, energy\n",
    "- Mesh: Pseudo 1-D column with three layers - organic, mineral, and bedrock layer with increasing cell sizes.\n",
    "- Initial conditions : -1.0 m – hydrostatic head (in m) to represent the permafrost table level or active layer, 264.15 K (-3°C).\n",
    "- Boundary conditions :  Top - **Actual daily air temprature (2017)**\n",
    "- Note that the VGc properties of bedrock are less significant since they are mostly saturated.\n",
    "\n",
    "- Parameters:\n",
    "    - VGc - Peat: alpha – 0.001, n – 1.4, wr = 0.1\n",
    "    - VGc - Mineral: alpha – 0.0002, n – 1.4, wr = 0.05\n",
    "    - VGc - Bedrock: alpha – 0.03, n – 2, wr = 0.05\n",
    "    - Smoothing interval - Peat, Mineral, Bedrock - 0.1\n",
    "    - Thermal conductivity: Peat – K_sat – [0.2, 0.6, 1] W m^-1 K^-1, K_dry – [0.03, 0.07, 0.12] W m^-1 K^-1, alpha_frozen = [0.5, 1.0, 1.5], alpha_unfrozen = [0.1, 0.5, 0.7]\n",
    "    - Thermal conductivity: Mineral – K_sat – [1, 1.5, 2] W m^-1 K^-1, K_dry – [0.2, 0.6, 1] W m^-1 K^-1, alpha_frozen = [0.5, 1.0, 1.5], alpha_unfrozen = [0.1, 0.5, 0.7]\n",
    "    - Thermal conductivity: Bedrock – K_sat – [1.5, 2.0, 3] W m^-1 K^-1, K_dry – [0.5, 1.0, 1.5] W m^-1 K^-1, alpha_frozen = [0.5, 1.0, 1.5], alpha_unfrozen = [0.1, 0.5, 0.7]\n",
    "    - Porosity, Compressible porosity: Peat – 0.5, 1e-07 Pa^-1; \n",
    "    - Porosity, Compressible porosity: Mineral –  0.3, 1e-08 Pa^-1; \n",
    "    - Porosity, Compressible porosity: Bedrock – 0.3, 1e-09 Pa^-1; \n",
    "    - Permeability: Peat – 1e-11 m^2   \n",
    "    - Permeability: Mineral – 1e-13 m^2 \n",
    "    - Permeability: Bedrock – 1e-14 m^2 \n",
    "    - Density: Peat – 700 kg/m^3 \n",
    "    - Density: Mineral – 1900 kg/m^3 \n",
    "    - Density: Bedrock – 2000 kg/m^3 \n",
    "    \n",
    "    \n",
    "\n",
    "\n",
    "- Observations:\n",
    "    - Temperature [K] @ 0.01 m, 0.04 m, 0.1 m, 0.2 m, 0.4 m, 0.8 m, 1.2 m, 1.6 m 5 m, 10 m, 20 m, 30 m, 40 m.\n",
    "    - Saturation liquid [%] @ 0.01 m, 0.04 m, 0.1 m, 0.2 m, 0.4 m, 0.8 m, 1.2 m, 1.6 m 5 m, 10 m.\n",
    "    - Saturation ice [%] @ 0.01 m, 0.04 m, 0.1 m, 0.2 m, 0.4 m, 0.8 m, 1.2 m, 1.6 m 5 m, 10 m.\n",
    "\n",
    "- I/O files:\n",
    "    - Xml file: Case1_B_IV_Therm_{props}[parameter_number].xml\n",
    "    - Output folders (.demo file): \n",
    "        - Ptcs/Case1_B_IV_Therm_Ptcs[1-3].demo\n",
    "        - Ptcd/Case1_B_IV_Therm_Ptcd[1-3].demo\n",
    "        - Paf/Case1_B_IV_Therm_Paf[1-3].demo\n",
    "        - Pauf/Case1_B_IV_Therm_Pauf[1-3].demo\n",
    "        \n",
    "        - Mtcs/Case1_B_IV_Therm_Mtcs[1-3].demo\n",
    "        - Mtcd/Case1_B_IV_Therm_Mtcd[1-3].demo\n",
    "        - Maf/Case1_B_IV_Therm_Maf[1-3].demo\n",
    "        - Mauf/Case1_B_IV_Therm_Mauf[1-3].demo\n",
    "        \n",
    "        - Btcs/Case1_B_IV_Therm_Btcs[1-3].demo\n",
    "        - Btcd/Case1_B_IV_Therm_Btcd[1-3].demo\n",
    "        - Baf/Case1_B_IV_Therm_Baf[1-3].demo\n",
    "        - Bauf/Case1_B_IV_Therm_Bauf[1-3].demo\n",
    "\n",
    "\n",
    "- Expected results: The thermal parameters will mainly influence the subsurface temperature results. Porosity also influences the thermal parameters in the frozen or transition state. As porosity increases, the tc of the medium also increases. Regarding the influence of moisture, as the tc of the medium increases, the soil will undergo thaw at a faster rate, due to which the moisture will be released and an increase is expected. The changes w.r.t each parameter might be as follows:\n",
    "    - Thermal conductivity (saturated): Effects on temperature - As the thermal conductivity increases, the subsurface temperature will also increase. The effects will be seen both in frozen and unfrozen state. In the frozen state, the temperature rise will be greater. **tcs ↑ --> T ↑ --> s_w ↑ (during thawing especially)**\n",
    "    - Thermal conductivity (dry): It will have similar effects as tcs (but the significance might be lesser)  **tcs ↑ --> T ↑ --> s_w ↑ (during thawing especially)** \n",
    "    - alpha (frozen): Effects on temperature - As the af increases, the subsurface temperature will also decrease (as tc_medium also reduces). The effects will be seen only in the frozen state. In the frozen state, the temperature drop will be greater. **af ↑ --> T ↓ --> s_w ↓ ** \n",
    "    - alpha (unfrozen): Effects on temperature - As the af increases, the subsurface temperature will also decrease (as tc_medium also reduces). The effects will be seen only in the unfrozen state. In the unfrozen state, the temperature drop will be greater. **auf ↑ --> T ↓ --> s_w ↓ ** \n",
    "    \n",
    "### Detailed description:\n",
    "\n",
    "#### 1. Physical processes - Cases: Case 1\n",
    "The physical processes that are considered - Subsurface flow + Subsurface energy (with ice content). A custom strong coupler - 'subsurface permafrost' couples the 'permafrost flow' and 'three-phase energy' PKs. \n",
    "\n",
    "<img src='../figures/Case1_process.jpg' width='500' height='500' alt='Case1 physical process' align='center' />  \n",
    "\n",
    "\n",
    "\n",
    "\n",
    "#### 2. Mesh - Stages: Stage B\n",
    "Two types of meshes are considered here. The first mesh (Yakou_column.exo) resembles the properties of the hillslope transect that we would like to simulate. Once the meshing issues are resolved, we will be using this mesh. The second mesh is a test mesh that was generated by the ATS developers with similar properties. We will be using this mesh. \n",
    "\n",
    "1. Yakou_column.exo - Organic layer (0.25 m), Mineral layer (0.25 - 20 m), Bedrock (20 – 40 m) with increasing cell thickness. [Cell thickness: 0.05 m until 0.25 m (Organic layer); 0.05 m until 0.25 m and increasing cell size by 2 units until 2 m, 2 m - 20 m, we have 2 m cell sizes (Mineral layer); we again have 2 m cell sizes from 20 m - 40 m]\n",
    "\n",
    "2. tes_org_spinup_column.exo - Organic layer (0.385 m), Mineral layer (2.24 m), Bedrock (42.48 m); Cell thickness starts with a magnitude of 0.01 m and increases in magnitude of 1.2, 1.4 & 1.5 as cell numbers increase from 20, 20 - 26, and >26. \n",
    "\n",
    "##### Mesh - Run it with yakou_column.xml once the meshing issues has been resolved.  \n",
    "\n",
    "Images of 'tes_org_spinup_column.exo':\n",
    "\n",
    "<img src='../figures/1D_test_org_spinup_column_1.PNG' width='70' height='90' alt='1D_test_org_column_1' align='left' />  \n",
    "\n",
    "<img src='../figures/1D_test_org_spinup_column_2.PNG' width='120' height='200' alt='1D_test_org_column_2' align='center' />  \n",
    "\n"
   ]
  },
  {
   "cell_type": "markdown",
   "id": "d1545930-e0e6-4b2e-b7ef-2d423f58b75c",
   "metadata": {},
   "source": [
    "#### 3. Scenarios (IC, BC): Scenario I\n",
    "\n",
    "\n",
    "| :------:               | IC   |  BC    |                 \n",
    "| :----------------------------------------------------------------- | :------: | :------: |  \n",
    "| Hydraulic                                                          | Hydrostatic head (-1 m) | - |\n",
    "| Thermal                                                            |  270.15 K (-3 °C)   |  BCTopAiractualT = actual daily air temperature (2017) |\n",
    "\n",
    "##### Time period (T) of **5 years (daily time step)**\n",
    "\n",
    "\n",
    "#### 4. Parameters:\n",
    "\n",
    "\n",
    "|Sl. No.|\tParameter type|\tParameter|\tUnit|\tSoil type/Water\t|Current value|\n",
    "| --- | --- | --- | --- | --- | --- |\n",
    "1 |\tVariably saturated properties - van Genuchten model |\tvan Genuchten alpha |\tPa^{-1} |\tPeat |\t0.001 |\n",
    "2 |\tVariably saturated properties - van Genuchten model |\tvan Genuchten n |\t[-] | Peat |\t\t1.4 |\n",
    "3 |\tVariably saturated properties - van Genuchten model |\tresidual saturation\t| [-] | Peat |\t\t0.1 |\n",
    "4 |\tVariably saturated properties - van Genuchten model |\tsmoothing interval width \t| [saturation] | Peat | 0.1 |\n",
    "5 |\tVariably saturated properties - van Genuchten model |\tvan Genuchten alpha | Pa^{-1} | Mineral |\t0.0002 |\n",
    "6 |\tVariably saturated properties - van Genuchten model |\tvan Genuchten n | [-] | Mineral | 1.4 |\n",
    "7 |\tVariably saturated properties - van Genuchten model |\tresidual saturation\t| [-]\t| Mineral |\t\t0.05 |\n",
    "8 |\tVariably saturated properties - van Genuchten model |\tsmoothing interval width  |\t[saturation] | Mineral | 0.1 |\n",
    "9 |\tVariably saturated properties - van Genuchten model |\tvan Genuchten alpha\t| Pa^{-1}\t| Bedrock | 0.03 |\n",
    "10 | Variably saturated properties - van Genuchten model |\t\tvan Genuchten n\t| [-] | Bedrock | 2 |\n",
    "11 | Variably saturated properties - van Genuchten model |\t\tresidual saturation\t| [-]\t| Bedrock | 0.05 |\n",
    "12 | Variably saturated properties - van Genuchten model |\t\tsmoothing interval width \t| [saturation] | Bedrock |0.1 |\n",
    "13 | \tPermafrost model parameters - fpd permafrost model [Cryosuction] |\tminimum dsi_dpressure magnitude |\t??\t| For the entire model |\t1.00E-12 |\n",
    "14 |\tThermal conductivity evaluator: Three-phase wet/dry |\tThermal conductivity, saturated (unfrozen) | \t[W m^-1 K^-1] |\tPeat |\t0.67 |\n",
    "15 |\tThermal conductivity evaluator: Three-phase wet/dry |\tThermal conductivity, dry \t| [W m^-1 K^-1] |\tPeat |\t\t0.07 |\n",
    "16 |\tThermal conductivity evaluator: Three-phase wet/dry |\tUnsaturated alpha frozen\t| [-]\t |\tPeat |\t1 |\n",
    "17 |\tThermal conductivity evaluator: Three-phase wet/dry |\tUnsaturated alpha unfrozen\t| [-]\t|\tPeat |\t0.5 |\n",
    "18 |\tThermal conductivity evaluator: Three-phase wet/dry |\tThermal conductivity, saturated (unfrozen) | \t[W m^-1 K^-1] |\tMineral |\t1 |\n",
    "19 |\tThermal conductivity evaluator: Three-phase wet/dry |\tThermal conductivity, dry | [W m^-1 K^-1] |\tMineral |\t\t0.29 |\n",
    "20 |\tThermal conductivity evaluator: Three-phase wet/dry |\tUnsaturated alpha frozen| [-] |\tMineral |\t\t1 |\n",
    "21 |\tThermal conductivity evaluator: Three-phase wet/dry |\tUnsaturated alpha unfrozen | [-] |\tMineral |\t\t0.5 |\n",
    "22 |\tThermal conductivity evaluator: Three-phase wet/dry |\tThermal conductivity, saturated (unfrozen) |\t[W m^-1 K^-1] |\tBedrock |\t1 |\n",
    "23 |\tThermal conductivity evaluator: Three-phase wet/dry |\tThermal conductivity, dry \t| [W m^-1 K^-1] |\tBedrock |\t\t0.29 |\n",
    "24 |\tThermal conductivity evaluator: Three-phase wet/dry |\tUnsaturated alpha frozen\t| [-]\t |\tBedrock |\t1 |\n",
    "25 |\tThermal conductivity evaluator: Three-phase wet/dry |\tUnsaturated alpha unfrozen\t| [-] |\tBedrock |\t\t0.5 |\n",
    "39 |\tPhysical |\tBase porosity |\t[-] |\tPeat |\t0.5 |\n",
    "40 |\tPhysical |\tBase porosity |\t[-]\t | Mineral |\t0.3 |\n",
    "41 |\tPhysical |\tBase porosity | [-]\t| bedrock\t | 0.3 |\n",
    "42 |\tPhysical |\tPore compressibility\t| [Pa^-1] |\tPeat |\t1.00E-07 |\n",
    "43 |\tPhysical |\tPore compressibility\t| [Pa^-1] |\tMineral |\t1.00E-08 |\n",
    "44 |\tPhysical |\tPore compressibility\t| [Pa^-1] |\tbedrock |\t1.00E-09 |\n",
    "45 |\tPhysical / Hydraulic |\tPermeability\t| m^2? |\tPeat |\t1.00E-11 |\n",
    "46 |\tPhysical / Hydraulic |\tPermeability\t|m^2? |\tMineral |\t1.00E-13 |\n",
    "47 |\tPhysical / Hydraulic |\tPermeability\t| m^2? |\tbedrock |\t1.00E-14 |\n",
    "48 |\tPhysical |\tDensity\t| kg/m^3? |\tPeat |\t7.00E+02 |\n",
    "49 | \tPhysical |\tDensity\t|kg/m^3? |\tMineral |\t1900 |\n",
    "50 |\tPhysical |\tDensity\t|kg/m^3? |\tbedrock |\t2000 |\n",
    "\n",
    "- The values of Bedrock are currently similar to that of Minerals. While conducting the parameter sensitivity analysis, the values will be changed.\n",
    "\n",
    "#### 5. Visualization:\n",
    "\n",
    "- The entire subsurface domain is visualized. \n",
    "- Cycles start period stop\" - \"{0,100,-1}\". The unit is in days. Every 100 days, one observation instance of the entire column is dumped. T = 1825 days, therefore 20 instances are stored. \n",
    "\n",
    "#### 6. Observations:\n",
    "\n",
    "- The variables under observation taken every day - {0.0,1.0,-1.0}: \n",
    "\n",
    "    - Temperature [K] @ 0.01 m, 0.04 m, 0.1 m, 0.2 m, 0.4 m, 0.8 m, 1.2 m, 1.6 m 5 m, 10 m, 20 m, 30 m, 40 m.\n",
    "    - Saturation liquid [%] @ 0.01 m, 0.04 m, 0.1 m, 0.2 m, 0.4 m, 0.8 m, 1.2 m, 1.6 m 5 m, 10 m.\n",
    "    - Saturation ice [%] @ 0.01 m, 0.04 m, 0.1 m, 0.2 m, 0.4 m, 0.8 m, 1.2 m, 1.6 m 5 m, 10 m.\n",
    "\n",
    "\n",
    "- I/O files:\n",
    "    - Xml file: Case1_B_IV_Therm_{props}[parameter_number].xml\n",
    "    - Output folders (.demo file): \n",
    "        - Ptcs/Case1_B_IV_Therm_Ptcs[1-3].demo\n",
    "        - Ptcd/Case1_B_IV_Therm_Ptcd[1-3].demo\n",
    "        - Paf/Case1_B_IV_Therm_Paf[1-3].demo\n",
    "        - Pauf/Case1_B_IV_Therm_Pauf[1-3].demo\n",
    "        \n",
    "        - Mtcs/Case1_B_IV_Therm_Mtcs[1-3].demo\n",
    "        - Mtcd/Case1_B_IV_Therm_Mtcd[1-3].demo\n",
    "        - Maf/Case1_B_IV_Therm_Maf[1-3].demo\n",
    "        - Mauf/Case1_B_IV_Therm_Mauf[1-3].demo\n",
    "        \n",
    "        - Btcs/Case1_B_IV_Therm_Btcs[1-3].demo\n",
    "        - Btcd/Case1_B_IV_Therm_Btcd[1-3].demo\n",
    "        - Baf/Case1_B_IV_Therm_Baf[1-3].demo\n",
    "        - Bauf/Case1_B_IV_Therm_Bauf[1-3].demo"
   ]
  },
  {
   "cell_type": "markdown",
   "id": "b06562ed-03c8-47ff-a0a3-a5847105b90b",
   "metadata": {},
   "source": [
    "## Workflow:\n",
    "1. Importing all the modules & naming the directories\n",
    "2. Plotting the input data and the VGc parameters \n",
    "3. Plotting the observation results.\n",
    "4. Comparing the simulation results with the measurements\n",
    "5. Finding the RMSE value - yearly average and monthly average for a single group of change in parameters [Ex: Palpha[1-5]]\n",
    "6. Comparison - Plotting the RMSE values yearly and monthly "
   ]
  },
  {
   "cell_type": "markdown",
   "id": "c1ac501e",
   "metadata": {},
   "source": [
    "## The ats code is written in this way:\n",
    "\n",
    "- Test the script first before running the simulations! - It was observed that the output error was not displayed.\n",
    "\n",
    "A. Creating folders and executing the ats command\n",
    "1. Creating a demo directory : mkdir output_file_name.demo\n",
    "2. 'cd' into the demo directory : cd out_file_name.demo\n",
    "3. Excecuting the ats command : ats --xml_file=../input_file_name.xml &>out.log\n",
    "\n",
    "B. Replacing the entire line within the 'input_file_name.xml' \n",
    "1. Parsing ats xml file and changing particular lines.\n",
    "\n",
    "C. Running task B dynamically by creating multiple input files\n",
    "1. Copying the main file\n",
    "2. Running task B and creating multiple input files with replaced lines\n",
    "\n",
    "D. Running task A dynamically on the changed input files\n",
    "1. Accessing the name of the input file\n",
    "2. Running task A on the changed input files\n",
    "\n",
    "E. Deleting the newly created xml files"
   ]
  },
  {
   "cell_type": "code",
   "execution_count": 1,
   "id": "92418e61",
   "metadata": {},
   "outputs": [],
   "source": [
    "import os\n",
    "import subprocess\n",
    "import shutil\n",
    "import fileinput\n",
    "import time"
   ]
  },
  {
   "cell_type": "markdown",
   "id": "eb6679df-62c9-4a82-b7bd-33cdcdd0560c",
   "metadata": {},
   "source": [
    "#### A. Creating folders and executing the ats command\n",
    "1. Creating a demo directory : mkdir output_file_name.demo\n",
    "2. 'cd' into the demo directory : cd out_file_name.demo\n",
    "3. Excecuting the ats command : ats --xml_file=../input_file_name.xml &>out.log"
   ]
  },
  {
   "cell_type": "code",
   "execution_count": 2,
   "id": "0ca9d1a2-76f3-41d1-9942-b51322e8e979",
   "metadata": {},
   "outputs": [],
   "source": [
    "def ats_run(file_name):\n",
    "    \"\"\"\n",
    "    Function that calls & reproduces the command line options for executing ats. It involves mainly the following steps:\n",
    "    1. Creating a demo directory : mkdir output_file_name.demo\n",
    "    2. 'cd' into the demo directory : cd out_file_name.demo\n",
    "    3. Excecuting the ats command : ats --xml_file=../input_file_name.xml &>out.log\n",
    "    \n",
    "    Note: To execute the command - Please be in the directory where the input xml file is present.\n",
    "    \n",
    "    Parameters:\n",
    "    \n",
    "    -----\n",
    "    INPUT\n",
    "    \n",
    "    file_name : string\n",
    "    \n",
    "    The input xml file name and the directory name (both are the same). Ex: infiltration\n",
    "    \n",
    "    \n",
    "    -----\n",
    "    OUTPUT:\n",
    "    \n",
    "    Runs the ats command and dumps all the outputs in file_name_i.demo\n",
    "    \n",
    "    \"\"\"\n",
    "    # Removing the directory if it exists\n",
    "    if os.path.isdir(f'{file_name}.demo/'):\n",
    "        shutil.rmtree(f'{file_name}.demo/')\n",
    "    \n",
    "    # Making a new directory\n",
    "    os.mkdir(f'{file_name}.demo')\n",
    "    \n",
    "    # Changing the directory to the demo directory\n",
    "    os.chdir(f'{file_name}.demo/')\n",
    "    \n",
    "    # Running the ats command\n",
    "    ats_command = f\"ats --xml_file=../{file_name}.xml >out.log\"\n",
    "    \n",
    "    os.system(ats_command)\n",
    "    #output = os.popen(ats_command).read()\n",
    "    \n",
    "    #return output\n",
    "    \n",
    "        "
   ]
  },
  {
   "cell_type": "markdown",
   "id": "27d7877d-1bdc-4ef8-90fd-f85f4e22bb40",
   "metadata": {},
   "source": [
    "B. Replacing the entire line within the 'input_file_name.xml' \n",
    "1. Parsing ats xml file and changing particular lines"
   ]
  },
  {
   "cell_type": "code",
   "execution_count": 3,
   "id": "e0dae2d5-bebf-4c94-9735-506cdbc08d61",
   "metadata": {},
   "outputs": [],
   "source": [
    "### Writing a function that changes the xml file details\n",
    "\n",
    "def xml_detailschange(xml_file_name, line_search, line_replace, i):\n",
    "    \"\"\"\n",
    "    A function defined to replace a particular line of code (Helps in changing parameters)\n",
    "    \n",
    "    Parameters:\n",
    "    \n",
    "    -----\n",
    "    INPUT:\n",
    "    \n",
    "    xml_file_name : The input xml file name. Ex: infiltration.xml\n",
    "    \n",
    "    line_search : The line that needs to be replaced\n",
    "    \n",
    "    line_replace : The new line that will replace the searched line\n",
    "    \n",
    "    i : iteratively storing the new xml file \n",
    "    \n",
    "    OUTPUT:\n",
    "    \n",
    "    A new version of the same file with the replaced lines.\n",
    "    \n",
    "    \"\"\"\n",
    "    # Changing the value within the input file and storing them in the same input file\n",
    "    #with fileinput.FileInput(xml_file_name, inplace=True, backup='.bak') as file:\n",
    "    with fileinput.FileInput(xml_file_name, inplace=True) as file:\n",
    "        for line in file:\n",
    "            print(line.replace(line_search, line_replace), end='')\n",
    "    \n"
   ]
  },
  {
   "cell_type": "code",
   "execution_count": 5,
   "id": "065ec8da-8332-497d-aa76-f0250bd904cd",
   "metadata": {},
   "outputs": [],
   "source": [
    "# Standard parameters for all cases: - Check out Excel sheet - C:\\Users\\radhakrishna\\OneDrive\\Documents\\Hannover_PhD\\Work\\ATS\\RKModel\\RKModel_info_simulation_strategy.xlsx\n",
    "\n",
    "# Peat\n",
    "Ptcs_std = 0.6\n",
    "Ptcd_std = 0.07\n",
    "Paf_std = 1 \n",
    "Pauf_std = 0.5\n",
    "Ppor_std = 0.5\n",
    "\n",
    "# Mineral\n",
    "Mtcs_std = 1.5\n",
    "Mtcd_std = 0.6\n",
    "Maf_std = 1 \n",
    "Mauf_std = 0.5\n",
    "Mpor_std = 0.3\n",
    "\n",
    "# Bedrock\n",
    "Btcs_std = 2\n",
    "Btcd_std = 1.0\n",
    "Baf_std = 1.0 \n",
    "Bauf_std = 0.5\n",
    "Bpor_std = 0.3\n"
   ]
  },
  {
   "cell_type": "code",
   "execution_count": 6,
   "id": "1259df0c-4990-4e7e-8d3b-d30ed15f76fe",
   "metadata": {},
   "outputs": [],
   "source": [
    "# Variation of parameters: Check out Excel sheet - C:\\Users\\radhakrishna\\OneDrive\\Documents\\Hannover_PhD\\Work\\ATS\\RKModel\\RKModel_info_simulation_strategy.xlsx\n",
    "\n",
    "# Peat\n",
    "Ptcs = [0.2, 0.6, 1.0]\n",
    "Ptcd = [0.03, 0.07, 0.12]\n",
    "Paf = [0.5, 1.0, 1.5] \n",
    "Pauf = [0.1, 0.5, 0.7]\n",
    "Ppor = [0.3, 0.5, 0.9]\n",
    "\n",
    "# Mineral\n",
    "Mtcs = [1, 1.5, 2]\n",
    "Mtcd = [0.2, 0.6, 1.0]\n",
    "Maf = [0.5, 1, 1.5] \n",
    "Mauf = [0.1, 0.5, 0.7]\n",
    "Mpor = [0.2, 0.3, 0.5]\n",
    "\n",
    "# Bedrock\n",
    "Btcs = [1.5, 2, 3]\n",
    "Btcd = [0.5, 1, 1.5]\n",
    "Baf = [0.5, 1, 1.5] \n",
    "Bauf = [0.1, 0.5, 0.7]\n",
    "Bpor = [0.2, 0.3, 0.5]"
   ]
  },
  {
   "cell_type": "markdown",
   "id": "08d9276d-ea44-4574-a9fc-20670b972e9f",
   "metadata": {},
   "source": [
    "C. Running task B dynamically by creating multiple input files:\n",
    "1. Copying the main file\n",
    "2. Running task B and creating multiple input files with replaced lines"
   ]
  },
  {
   "cell_type": "code",
   "execution_count": 7,
   "id": "73ed48b8-fb01-4a06-b1f4-82047ae684ce",
   "metadata": {},
   "outputs": [
    {
     "name": "stdout",
     "output_type": "stream",
     "text": [
      "/home/rk/ats_rk/testing/ats-demos/rk_model/Case1_B_IV_Therm\n"
     ]
    }
   ],
   "source": [
    "main_cwd = os.getcwd()\n",
    "print(main_cwd)"
   ]
  },
  {
   "cell_type": "code",
   "execution_count": 10,
   "id": "74025161-4fe3-4e8f-bc03-65dedece9f27",
   "metadata": {},
   "outputs": [],
   "source": [
    "## Changing the base porosity dynamically values dynamically\n",
    "#por_replace = [0.3, 0.5, 0.9]\n",
    "os.chdir(main_cwd)\n",
    "xml_file_name = 'Case1_B_IV_Therm_test.xml'\n",
    "xml_file = 'Case1_B_IV_Therm_test'\n",
    "param_name = 'tcs'"
   ]
  },
  {
   "cell_type": "code",
   "execution_count": 11,
   "id": "20b94558-e093-4229-b9b6-81956f91132c",
   "metadata": {},
   "outputs": [],
   "source": [
    "# Copying the main file i number of times [Number of parameter values]\n",
    "for i, values in enumerate(Ptcs):\n",
    "    #print(i, values)\n",
    "    # Copying the main file 'i' number of times and storing the ith value in the new files\n",
    "    main_file_name = f'{xml_file}.xml'\n",
    "    copied_file_name = f'{xml_file}{param_name}{i}.xml'\n",
    "    os.system(f'cp {main_file_name} {copied_file_name}')\n",
    "    "
   ]
  },
  {
   "cell_type": "markdown",
   "id": "816122b4-1f6f-41f2-a610-c5969d0f4dd8",
   "metadata": {},
   "source": [
    "### Wait for a moment"
   ]
  },
  {
   "cell_type": "code",
   "execution_count": 12,
   "id": "9077bead-45e9-46ef-8bad-76c7cf1821e0",
   "metadata": {},
   "outputs": [],
   "source": [
    "# Changing the values in the file\n",
    "for i, values in enumerate(Ptcs):\n",
    "    \n",
    "    # The copied file names for which the values have been changed\n",
    "    copied_file_name = f'{xml_file}{param_name}{i}.xml'\n",
    "\n",
    "    # Storing the searched and replaced line in a variable\n",
    "    # Note - Ensure that this line is not repeated in another place withing the xml file\n",
    "    line_search = f'<Parameter name=\"thermal conductivity, saturated (unfrozen) [W m^-1 K^-1]\" type=\"double\" value=\"0.6\" />'\n",
    "    line_replace = f'<Parameter name=\"thermal conductivity, saturated (unfrozen) [W m^-1 K^-1]\" type=\"double\" value=\"{values}\" />'\n",
    "    \n",
    "    #print(line_replace)\n",
    "    # Changing a line within the xml file\n",
    "    xml_detailschange(copied_file_name, line_search, line_replace, i)\n",
    "    \n",
    "    \n",
    "    #os.chdir(main_cwd)"
   ]
  },
  {
   "cell_type": "markdown",
   "id": "04719750-873a-4757-989d-5c388d665d96",
   "metadata": {},
   "source": [
    "### Check if the files have been created with the required values"
   ]
  },
  {
   "cell_type": "code",
   "execution_count": 13,
   "id": "5e73d044-e9d8-473e-b843-c33a762d536c",
   "metadata": {},
   "outputs": [
    {
     "name": "stdout",
     "output_type": "stream",
     "text": [
      "/home/rk/ats_rk/testing/ats-demos/rk_model/Case1_B_IV_Therm\n"
     ]
    }
   ],
   "source": [
    "# Ensuring that we are in the right directory\n",
    "\n",
    "print(main_cwd)"
   ]
  },
  {
   "cell_type": "markdown",
   "id": "199fc2f0-af9a-4065-91bd-03367334a006",
   "metadata": {},
   "source": [
    "D. Running task A dynamically on the changed input files\n",
    "1. Accessing the name of the input file\n",
    "2. Running task A on the changed input files\n"
   ]
  },
  {
   "cell_type": "code",
   "execution_count": 15,
   "id": "998c8af0-0001-481e-9fb4-84d5de9f445d",
   "metadata": {},
   "outputs": [
    {
     "name": "stdout",
     "output_type": "stream",
     "text": [
      "None\n",
      "None\n",
      "None\n"
     ]
    }
   ],
   "source": [
    "# Running the ats command with these changed values\n",
    "for i, values in enumerate(Ptcs):\n",
    "    \n",
    "    copied_file_name = f'{xml_file}{param_name}{i}'\n",
    "    \n",
    "    #print(copied_file_name)\n",
    "    output = ats_run(copied_file_name)\n",
    "    \n",
    "    print(output)\n",
    "    \n",
    "    #time.sleep(20)\n",
    "    \n",
    "    os.chdir(main_cwd)\n",
    "    "
   ]
  },
  {
   "cell_type": "markdown",
   "id": "f2aad2aa-d149-491c-947f-55ee9fd68ddc",
   "metadata": {},
   "source": [
    "E. Deleting the newly created xml files"
   ]
  },
  {
   "cell_type": "code",
   "execution_count": 21,
   "id": "a2ae007b-f993-424e-b58b-362ab203f5bd",
   "metadata": {},
   "outputs": [
    {
     "data": {
      "text/plain": [
       "'/home/rk/ats_rk/testing/ats-demos/rk_model/Runtime_ATS'"
      ]
     },
     "execution_count": 21,
     "metadata": {},
     "output_type": "execute_result"
    }
   ],
   "source": [
    "os.getcwd()"
   ]
  },
  {
   "cell_type": "code",
   "execution_count": 24,
   "id": "6b380303-fad5-4e11-a9bb-d62747f083a6",
   "metadata": {},
   "outputs": [],
   "source": [
    "for i, values in enumerate(HH_replace):\n",
    "    \n",
    "    copied_file_name = f'{xml_file}{param_name}{i}.xml'\n",
    "    \n",
    "    # Removing the directory if it exists\n",
    "    os.remove(copied_file_name)"
   ]
  },
  {
   "cell_type": "code",
   "execution_count": null,
   "id": "424fcd07-0bf3-4fe7-9349-901d0efdc186",
   "metadata": {},
   "outputs": [],
   "source": []
  },
  {
   "cell_type": "code",
   "execution_count": null,
   "id": "3823150a-2256-48a4-a537-2b2764e38bae",
   "metadata": {},
   "outputs": [],
   "source": []
  },
  {
   "cell_type": "code",
   "execution_count": null,
   "id": "fb3543a9-d184-458c-b484-5990de06e38e",
   "metadata": {},
   "outputs": [],
   "source": []
  }
 ],
 "metadata": {
  "kernelspec": {
   "display_name": "Python 3",
   "language": "python",
   "name": "python3"
  },
  "language_info": {
   "codemirror_mode": {
    "name": "ipython",
    "version": 3
   },
   "file_extension": ".py",
   "mimetype": "text/x-python",
   "name": "python",
   "nbconvert_exporter": "python",
   "pygments_lexer": "ipython3",
   "version": "3.8.8"
  }
 },
 "nbformat": 4,
 "nbformat_minor": 5
}
